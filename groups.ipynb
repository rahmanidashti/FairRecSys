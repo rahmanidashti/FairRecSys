{
 "cells": [
  {
   "cell_type": "code",
   "execution_count": 1,
   "metadata": {},
   "outputs": [],
   "source": [
    "# import required packages\n",
    "import pandas as pd\n",
    "from collections import defaultdict\n",
    "from tqdm import tqdm"
   ]
  },
  {
   "cell_type": "code",
   "execution_count": 2,
   "metadata": {},
   "outputs": [],
   "source": [
    "# config\n",
    "ds_name = 'Epinion'\n",
    "is_implicit = False"
   ]
  },
  {
   "cell_type": "code",
   "execution_count": 3,
   "metadata": {},
   "outputs": [],
   "source": [
    "# loading the Book-Crossing dataset\n",
    "dataset = pd.read_csv(f\"datasets/{ds_name}/{ds_name}_train.txt\", sep=\"\\t\", names=['uid', 'iid', 'count'])"
   ]
  },
  {
   "cell_type": "code",
   "execution_count": 4,
   "metadata": {},
   "outputs": [
    {
     "data": {
      "text/html": [
       "<div>\n",
       "<style scoped>\n",
       "    .dataframe tbody tr th:only-of-type {\n",
       "        vertical-align: middle;\n",
       "    }\n",
       "\n",
       "    .dataframe tbody tr th {\n",
       "        vertical-align: top;\n",
       "    }\n",
       "\n",
       "    .dataframe thead th {\n",
       "        text-align: right;\n",
       "    }\n",
       "</style>\n",
       "<table border=\"1\" class=\"dataframe\">\n",
       "  <thead>\n",
       "    <tr style=\"text-align: right;\">\n",
       "      <th></th>\n",
       "      <th>uid</th>\n",
       "      <th>iid</th>\n",
       "      <th>count</th>\n",
       "    </tr>\n",
       "  </thead>\n",
       "  <tbody>\n",
       "    <tr>\n",
       "      <th>0</th>\n",
       "      <td>0</td>\n",
       "      <td>0</td>\n",
       "      <td>2</td>\n",
       "    </tr>\n",
       "    <tr>\n",
       "      <th>1</th>\n",
       "      <td>0</td>\n",
       "      <td>90</td>\n",
       "      <td>5</td>\n",
       "    </tr>\n",
       "    <tr>\n",
       "      <th>2</th>\n",
       "      <td>0</td>\n",
       "      <td>120</td>\n",
       "      <td>4</td>\n",
       "    </tr>\n",
       "    <tr>\n",
       "      <th>3</th>\n",
       "      <td>0</td>\n",
       "      <td>131</td>\n",
       "      <td>5</td>\n",
       "    </tr>\n",
       "    <tr>\n",
       "      <th>4</th>\n",
       "      <td>0</td>\n",
       "      <td>147</td>\n",
       "      <td>1</td>\n",
       "    </tr>\n",
       "  </tbody>\n",
       "</table>\n",
       "</div>"
      ],
      "text/plain": [
       "   uid  iid  count\n",
       "0    0    0      2\n",
       "1    0   90      5\n",
       "2    0  120      4\n",
       "3    0  131      5\n",
       "4    0  147      1"
      ]
     },
     "execution_count": 4,
     "metadata": {},
     "output_type": "execute_result"
    }
   ],
   "source": [
    "dataset.head(5)"
   ]
  },
  {
   "cell_type": "code",
   "execution_count": 5,
   "metadata": {},
   "outputs": [
    {
     "name": "stdout",
     "output_type": "stream",
     "text": [
      "No. users: 2677\n",
      "Mean items per user: 27.08106088905491\n",
      "Min items per user: 8\n",
      "Max items per user: 241\n"
     ]
    }
   ],
   "source": [
    "# get user distribution\n",
    "user_dist = dataset['uid'].value_counts()\n",
    "num_users = len(user_dist)\n",
    "print('No. users: ' + str(num_users))\n",
    "print('Mean items per user: ' + str(user_dist.mean()))\n",
    "print('Min items per user: ' + str(user_dist.min()))\n",
    "print('Max items per user: ' + str(user_dist.max()))"
   ]
  },
  {
   "cell_type": "code",
   "execution_count": 6,
   "metadata": {},
   "outputs": [],
   "source": [
    "def read_item_popularity(is_implicit=False):\n",
    "    items_freq = dict()\n",
    "    for eachline in dataset.itertuples(index=True):\n",
    "        iid, count = int(eachline.iid), int(eachline.count)\n",
    "        if not is_implicit:\n",
    "            count = 1\n",
    "        if iid in items_freq.keys():\n",
    "            items_freq[iid] += count\n",
    "        else:\n",
    "            items_freq[iid] = count\n",
    "    return items_freq"
   ]
  },
  {
   "cell_type": "code",
   "execution_count": 7,
   "metadata": {},
   "outputs": [
    {
     "name": "stdout",
     "output_type": "stream",
     "text": [
      "No. items: 2060\n"
     ]
    }
   ],
   "source": [
    "item_freq = read_item_popularity(is_implicit=True)\n",
    "num_items = len(item_freq)\n",
    "print('No. items: ' + str(num_items))"
   ]
  },
  {
   "cell_type": "code",
   "execution_count": 8,
   "metadata": {},
   "outputs": [
    {
     "name": "stdout",
     "output_type": "stream",
     "text": [
      "No. top items: 412\n"
     ]
    }
   ],
   "source": [
    "# get top items\n",
    "top_fraction = 0.2\n",
    "num_top = int(top_fraction * num_items)\n",
    "sorted_item_freq = {k: v for k, v in sorted(item_freq.items(), key=lambda item: item[1], reverse=True)}\n",
    "short_heads = list(sorted_item_freq.keys())[:num_top] # top pop items\n",
    "long_tails = list(sorted_item_freq.keys())[num_top:]\n",
    "print('No. top items: ' + str(num_top))"
   ]
  },
  {
   "cell_type": "markdown",
   "metadata": {},
   "source": [
    "### Writing the list of items"
   ]
  },
  {
   "cell_type": "code",
   "execution_count": 9,
   "metadata": {},
   "outputs": [],
   "source": [
    "# Files to save users ids based on the number of checkins\n",
    "shorthead_items = open(f'datasets/{ds_name}/groups/items/020/shorthead_items.txt', 'w')\n",
    "longtail_items = open(f'datasets/{ds_name}/groups/items/020/longtail_items.txt', 'w')\n",
    "\n",
    "for iid in short_heads:\n",
    "    shorthead_items.write(str(iid) + '\\n')\n",
    "shorthead_items.close()\n",
    "\n",
    "for iid in long_tails:\n",
    "    longtail_items.write(str(iid) + '\\n')\n",
    "longtail_items.close()"
   ]
  },
  {
   "cell_type": "code",
   "execution_count": 10,
   "metadata": {},
   "outputs": [
    {
     "name": "stderr",
     "output_type": "stream",
     "text": [
      "72496it [00:00, 262135.86it/s]\n"
     ]
    }
   ],
   "source": [
    "user_interactions = defaultdict(set)\n",
    "for eachline in tqdm(dataset.itertuples(index=True)):\n",
    "    uid, iid, count = int(eachline.uid), int(eachline.iid), int(eachline.count)\n",
    "    uid, iid, count = int(uid), int(iid), int(count)\n",
    "    if uid in user_interactions.keys():\n",
    "        user_interactions[uid].add(iid)\n",
    "    else:\n",
    "        user_interactions[uid] = {iid}"
   ]
  },
  {
   "cell_type": "code",
   "execution_count": 130,
   "metadata": {},
   "outputs": [
    {
     "name": "stderr",
     "output_type": "stream",
     "text": [
      "100%|██████████| 2448/2448 [00:00<00:00, 57665.00it/s]\n"
     ]
    }
   ],
   "source": [
    "# user_profile_ratio = {}\n",
    "\n",
    "# for user, items in tqdm(user_interactions.items()):\n",
    "#     if user not in user_profile_ratio.keys():\n",
    "#         user_profile_ratio[user] = (len(set(items) & set(short_heads))) / len(set(items))"
   ]
  },
  {
   "cell_type": "code",
   "execution_count": null,
   "metadata": {},
   "outputs": [],
   "source": [
    "user_profile_pop = {}\n",
    "\n",
    "for user, items in tqdm(user_interactions.items()):\n",
    "    if user not in user_profile_pop.keys():\n",
    "        user_profile_pop[user] = (len(set(items) & set(short_heads)))"
   ]
  },
  {
   "cell_type": "code",
   "execution_count": 131,
   "metadata": {},
   "outputs": [],
   "source": [
    "sorted_user_profile_ratio = {k: v for k, v in sorted(user_profile_ratio.items(), key=lambda item: item[1], reverse=True)}"
   ]
  },
  {
   "cell_type": "code",
   "execution_count": 132,
   "metadata": {},
   "outputs": [
    {
     "data": {
      "text/plain": [
       "(489, 2448)"
      ]
     },
     "execution_count": 132,
     "metadata": {},
     "output_type": "execute_result"
    }
   ],
   "source": [
    "num_user = len(sorted_user_profile_ratio)\n",
    "num_top_users = int(top_fraction * num_users)\n",
    "num_top_users, num_user"
   ]
  },
  {
   "cell_type": "code",
   "execution_count": 133,
   "metadata": {},
   "outputs": [],
   "source": [
    "# Files to save users ids based on the number of checkins\n",
    "inactive_users = open(f'datasets/{ds_name}/groups/users/20/inactive_ids.txt', 'w')\n",
    "active_users = open(f'datasets/{ds_name}/groups/users/20/active_ids.txt', 'w')"
   ]
  },
  {
   "cell_type": "code",
   "execution_count": 134,
   "metadata": {},
   "outputs": [],
   "source": [
    "for uid in list(sorted_user_profile_ratio.keys())[:num_top_users]:\n",
    "    active_users.write(str(uid) + '\\n')\n",
    "active_users.close()"
   ]
  },
  {
   "cell_type": "code",
   "execution_count": 135,
   "metadata": {},
   "outputs": [],
   "source": [
    "for uid in list(sorted_user_profile_ratio.keys())[num_top_users:]:\n",
    "    inactive_users.write(str(uid) + '\\n')\n",
    "inactive_users.close()"
   ]
  }
 ],
 "metadata": {
  "interpreter": {
   "hash": "0adcc2737ebf6a4a119f135174df96668767fca1ef1112612db5ecadf2b6d608"
  },
  "kernelspec": {
   "display_name": "Python 3.8.0 64-bit",
   "language": "python",
   "name": "python3"
  },
  "language_info": {
   "codemirror_mode": {
    "name": "ipython",
    "version": 3
   },
   "file_extension": ".py",
   "mimetype": "text/x-python",
   "name": "python",
   "nbconvert_exporter": "python",
   "pygments_lexer": "ipython3",
   "version": "3.8.0"
  },
  "orig_nbformat": 4
 },
 "nbformat": 4,
 "nbformat_minor": 2
}
