{
 "cells": [
  {
   "cell_type": "code",
   "execution_count": 1,
   "metadata": {},
   "outputs": [],
   "source": [
    "# import required packages\n",
    "import pandas as pd\n",
    "from collections import defaultdict\n",
    "from tqdm import tqdm"
   ]
  },
  {
   "cell_type": "code",
   "execution_count": 2,
   "metadata": {},
   "outputs": [],
   "source": [
    "# config\n",
    "ds_name = 'AmazonOffice'\n",
    "is_implicit = False"
   ]
  },
  {
   "cell_type": "code",
   "execution_count": 3,
   "metadata": {},
   "outputs": [],
   "source": [
    "# loading the Book-Crossing dataset\n",
    "dataset = pd.read_csv(f\"datasets/{ds_name}/{ds_name}_train.txt\", sep=\"\\t\", names=['uid', 'iid', 'count'])"
   ]
  },
  {
   "cell_type": "code",
   "execution_count": 4,
   "metadata": {},
   "outputs": [
    {
     "name": "stderr",
     "output_type": "stream",
     "text": [
      "25787it [00:00, 361805.56it/s]\n"
     ]
    }
   ],
   "source": [
    "user_interactions = defaultdict(list)\n",
    "for eachline in tqdm(dataset.itertuples(index=True)):\n",
    "    uid, iid, count = int(eachline.uid), int(eachline.iid), int(eachline.count)\n",
    "    uid, iid, count = int(uid), int(iid), int(count)\n",
    "    if is_implicit:\n",
    "        for i in range(count):\n",
    "            if uid in user_interactions.keys():\n",
    "                user_interactions[uid].append(iid)\n",
    "            else:\n",
    "                user_interactions[uid] = [iid]\n",
    "    else:\n",
    "        if uid in user_interactions.keys():\n",
    "            user_interactions[uid].append(iid)\n",
    "        else:\n",
    "            user_interactions[uid] = [iid]"
   ]
  },
  {
   "cell_type": "code",
   "execution_count": 5,
   "metadata": {},
   "outputs": [],
   "source": [
    "user_groups = '005'"
   ]
  },
  {
   "cell_type": "code",
   "execution_count": 6,
   "metadata": {},
   "outputs": [],
   "source": [
    "ds_user_act = pd.read_csv(f'datasets/{ds_name}/groups/users/{user_groups}/active_ids.txt', names=['uid'])\n",
    "ds_user_inact = pd.read_csv(f'datasets/{ds_name}/groups/users/{user_groups}/inactive_ids.txt', names=['uid'])"
   ]
  },
  {
   "cell_type": "code",
   "execution_count": 7,
   "metadata": {},
   "outputs": [
    {
     "name": "stdout",
     "output_type": "stream",
     "text": [
      "3945\n"
     ]
    }
   ],
   "source": [
    "len_act_profile = 0\n",
    "for uid in ds_user_act.iterrows():\n",
    "    len_act_profile += len(user_interactions[int(uid[1][0])])\n",
    "\n",
    "print(len_act_profile)"
   ]
  },
  {
   "cell_type": "code",
   "execution_count": 8,
   "metadata": {},
   "outputs": [
    {
     "name": "stdout",
     "output_type": "stream",
     "text": [
      "21842\n"
     ]
    }
   ],
   "source": [
    "len_inact_profile = 0\n",
    "for uid in ds_user_inact.iterrows():\n",
    "    len_inact_profile += len(user_interactions[int(uid[1][0])])\n",
    "\n",
    "print(len_inact_profile)"
   ]
  },
  {
   "cell_type": "code",
   "execution_count": null,
   "metadata": {},
   "outputs": [],
   "source": []
  }
 ],
 "metadata": {
  "interpreter": {
   "hash": "0adcc2737ebf6a4a119f135174df96668767fca1ef1112612db5ecadf2b6d608"
  },
  "kernelspec": {
   "display_name": "Python 3.8.0 64-bit",
   "language": "python",
   "name": "python3"
  },
  "language_info": {
   "codemirror_mode": {
    "name": "ipython",
    "version": 3
   },
   "file_extension": ".py",
   "mimetype": "text/x-python",
   "name": "python",
   "nbconvert_exporter": "python",
   "pygments_lexer": "ipython3",
   "version": "3.8.0"
  },
  "orig_nbformat": 4
 },
 "nbformat": 4,
 "nbformat_minor": 2
}
