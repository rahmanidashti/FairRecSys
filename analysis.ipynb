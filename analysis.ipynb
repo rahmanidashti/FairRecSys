{
 "cells": [
  {
   "cell_type": "code",
   "execution_count": 1,
   "metadata": {},
   "outputs": [],
   "source": [
    "import glob\n",
    "import pandas as pd\n",
    "# %matplotlib inline\n",
    "import matplotlib.pyplot as plt\n",
    "plt.style.use('seaborn-whitegrid')\n",
    "import numpy as np\n",
    "import seaborn as sns\n",
    "sns.set_style(\"darkgrid\")\n",
    "import scipy as sp"
   ]
  },
  {
   "cell_type": "code",
   "execution_count": 3,
   "metadata": {},
   "outputs": [],
   "source": [
    "user_groups = \"005\"\n",
    "results_path = \"results/\" + user_groups + \"/\"\n",
    "datasets = ['Epinion', 'MovieLens', 'BookCrossing', 'AmazonOffice', 'AmazonToy', 'Gowalla', 'LastFM', 'Foursquare']"
   ]
  },
  {
   "cell_type": "code",
   "execution_count": 4,
   "metadata": {},
   "outputs": [
    {
     "name": "stdout",
     "output_type": "stream",
     "text": [
      "Epinion\n",
      "& 134 & 2542\n",
      "MovieLens\n",
      "& 47 & 895\n",
      "BookCrossing\n",
      "& 57 & 1078\n",
      "AmazonOffice\n",
      "& 122 & 2325\n",
      "AmazonToy\n",
      "& 108 & 2061\n",
      "Gowalla\n",
      "& 56 & 1073\n",
      "LastFM\n",
      "& 90 & 1706\n",
      "Foursquare\n",
      "& 78 & 1489\n"
     ]
    }
   ],
   "source": [
    "for dataset in datasets:\n",
    "    print(dataset)\n",
    "    ds_user_act = pd.read_csv(f'datasets/{dataset}/groups/users/{user_groups}/active_ids.txt', names=['uid'])\n",
    "    ds_user_inact = pd.read_csv(f'datasets/{dataset}/groups/users/{user_groups}/inactive_ids.txt')\n",
    "\n",
    "    # print(f\"{dataset} > adv. users: {ds_user_act.shape[0]}, disadv. users: {ds_user_inact.shape[0]} \")\n",
    "    print(f\"& {ds_user_act.shape[0]} & {ds_user_inact.shape[0]}\")\n"
   ]
  },
  {
   "cell_type": "code",
   "execution_count": null,
   "metadata": {},
   "outputs": [],
   "source": [
    "results_files = []\n",
    "\n",
    "for dataset in datasets:\n",
    "    for file in glob.glob(results_path + dataset + \"/*.csv\"):\n",
    "        results_files.append(file)\n",
    "print(f\"No. of files: {len(results_files)}\")"
   ]
  },
  {
   "cell_type": "code",
   "execution_count": null,
   "metadata": {},
   "outputs": [],
   "source": [
    "all_dfs = []\n",
    "\n",
    "for result_file in results_files:\n",
    "    result_df = pd.read_csv(result_file, sep=\",\")\n",
    "    all_dfs.append(result_df)\n",
    "\n",
    "# concat all of the dataframes\n",
    "results_df = pd.concat(all_dfs)"
   ]
  },
  {
   "cell_type": "code",
   "execution_count": null,
   "metadata": {},
   "outputs": [],
   "source": [
    "# sort results dataframe\n",
    "results_df = results_df.sort_values([\"Dataset\", \"Model\", 'Type'], ascending = (False, True, False))"
   ]
  },
  {
   "cell_type": "code",
   "execution_count": null,
   "metadata": {},
   "outputs": [],
   "source": [
    "results_df.head()"
   ]
  },
  {
   "cell_type": "code",
   "execution_count": null,
   "metadata": {},
   "outputs": [],
   "source": [
    "def UGF(row):\n",
    "    return round(row['ndcg_ACT'] - row['ndcg_INACT'], 4)"
   ]
  },
  {
   "cell_type": "code",
   "execution_count": null,
   "metadata": {},
   "outputs": [],
   "source": [
    "results_df['UGF'] = results_df.apply(lambda row: UGF(row), axis=1)"
   ]
  },
  {
   "cell_type": "code",
   "execution_count": null,
   "metadata": {},
   "outputs": [],
   "source": [
    "results_df.head()"
   ]
  },
  {
   "cell_type": "code",
   "execution_count": null,
   "metadata": {},
   "outputs": [],
   "source": [
    "ds_group_results_df = results_df.groupby('Dataset')\n",
    "\n",
    "def main_results_extraction(dataset='Epinion', model='NeuMF'):\n",
    "    global heatmap_df\n",
    "    global boxplot_df\n",
    "    global boxplot_UGF_df\n",
    "    ml_group_results_df = ds_group_results_df.get_group(dataset).groupby('Model')\n",
    "    model_df = ml_group_results_df.get_group(model)\n",
    "    N_df = model_df[(model_df.Type == 'N')]\n",
    "    # print(model)\n",
    "    C_df = model_df[(model_df.Type == 'C') & (model_df.UGF > 0)]\n",
    "    # print(C_df)\n",
    "    if C_df.empty == True:\n",
    "        # all UGfs are negative\n",
    "        C_df = model_df[(model_df.Type == 'C') & (model_df.UGF == model_df.UGF.max())]\n",
    "    else:\n",
    "        C_df = C_df[C_df.UGF == C_df.UGF.min()]\n",
    "\n",
    "    _UGF_N = round(N_df.UGF.values[0], 4)\n",
    "    _UGF_C = round(C_df.UGF.values[0], 4)\n",
    "\n",
    "    _NDCG_N = round(N_df.ndcg_ALL.values[0], 4)\n",
    "    _NDCG_C = round(C_df.ndcg_ALL.values[0], 4)\n",
    "\n",
    "    _Nov_N = round(N_df.Nov_ALL.values[0], 4)\n",
    "    _Nov_C = round(C_df.Nov_ALL.values[0], 4)\n",
    "\n",
    "    _DeltaGAP_N = round(abs(N_df.Active_GAP.values[0] + N_df.Inactive_Gap.values[0]), 4) / 2\n",
    "    _DeltaGAP_C = round(abs(C_df.Active_GAP.values[0] + C_df.Inactive_Gap.values[0]), 4) / 2\n",
    "\n",
    "    # _DeltaGAP_N_Imp = _DeltaGAP_N\n",
    "\n",
    "    print(f\"\\multirow{{2}}{{*}}{{{N_df.Model.values[0]}}} & Org. & {round(N_df.ndcg_ALL.values[0], 4)} & {round(N_df.ndcg_ACT.values[0], 4)} & {round(N_df.ndcg_INACT.values[0], 4)} & {round(N_df.UGF.values[0], 4)} & {round(abs((_UGF_N - _UGF_N) / _UGF_N) * 100, 2)} && {round(N_df.Nov_ALL.values[0], 4)} & {N_df.Cov_ALL.values[0]} & {round(N_df.Short_Items.values[0], 4)} & {round(N_df.Long_Items.values[0], 4)} & {round(N_df.Active_GAP.values[0], 4)} & {round(N_df.Inactive_Gap.values[0], 4)} \\\\\\\\\")\n",
    "    print(f\"                       & Fair & {round(C_df.ndcg_ALL.values[0], 4)} & {round(C_df.ndcg_ACT.values[0], 4)} & {round(C_df.ndcg_INACT.values[0], 4)} & {round(C_df.UGF.values[0], 4)} & {round(abs((_UGF_C - _UGF_N) / _UGF_N) * 100, 2)} && {round(C_df.Nov_ALL.values[0], 4)} & {C_df.Cov_ALL.values[0]} & {round(C_df.Short_Items.values[0], 4)} & {round(C_df.Long_Items.values[0], 4)} & {round(C_df.Active_GAP.values[0], 4)} & {round(C_df.Inactive_Gap.values[0], 4)} \\\\\\ \\hline\")\n",
    "    result_table.write(f\"{N_df.Model.values[0]},Org.,{round(N_df.ndcg_ALL.values[0], 4)},{round(N_df.ndcg_ACT.values[0], 4)},{round(N_df.ndcg_INACT.values[0], 4)},{round(N_df.UGF.values[0], 4)},{round(abs((_UGF_N - _UGF_N) / _UGF_N) * 100, 2)},{round(N_df.Nov_ALL.values[0], 4)},{N_df.Cov_ALL.values[0]},{round(N_df.Short_Items.values[0], 4)},{round(N_df.Long_Items.values[0], 4)},{round(N_df.Active_GAP.values[0], 4)},{round(N_df.Inactive_Gap.values[0], 4)} \\n\")\n",
    "    result_table.write(f\"{C_df.Model.values[0]},Fair,{round(C_df.ndcg_ALL.values[0], 4)},{round(C_df.ndcg_ACT.values[0], 4)},{round(C_df.ndcg_INACT.values[0], 4)},{round(C_df.UGF.values[0], 4)},{round(abs((_UGF_C - _UGF_N) / _UGF_N) * 100, 2)},{round(C_df.Nov_ALL.values[0], 4)},{C_df.Cov_ALL.values[0]},{round(C_df.Short_Items.values[0], 4)},{round(C_df.Long_Items.values[0], 4)},{round(C_df.Active_GAP.values[0], 4)},{round(C_df.Inactive_Gap.values[0], 4)} \\n\")\n",
    "    # heatmap_df = heatmap_df.append({'Dataset': model_df.Dataset.values[0], 'Group': 'All', 'Model': model_df.Model.values[0], 'Precision': model_df.Pre_ALL.values[0]}, ignore_index=True)\n",
    "    # N\n",
    "    heatmap_df = heatmap_df.append({'Dataset': model_df.Dataset.values[0],'Group': 'Org.', 'Model': model_df.Model.values[0], 'UGF': (N_df.Pre_ACT.values[0] - N_df.Pre_INACT.values[0])}, ignore_index=True)\n",
    "    heatmap_df = heatmap_df.append({'Dataset': model_df.Dataset.values[0],'Group': 'Fair', 'Model': model_df.Model.values[0], 'UGF': (C_df.Pre_ACT.values[0] - C_df.Pre_INACT.values[0])}, ignore_index=True)\n",
    "    # heatmap_df = heatmap_df.append({'Dataset': model_df.Dataset.values[0],'Group': 'Fair (Act.)', 'Model': model_df.Model.values[0], 'Precision': C_df.Pre_ACT.values[0]}, ignore_index=True)\n",
    "    # heatmap_df = heatmap_df.append({'Dataset': model_df.Dataset.values[0],'Group': 'Fair (Inact.)', 'Model': model_df.Model.values[0], 'Precision': C_df.Pre_INACT.values[0]}, ignore_index=True)\n",
    "\n",
    "    boxplot_df = boxplot_df.append({'Dataset': model_df.Dataset.values[0], 'Model': model_df.Model.values[0], 'Type': 'Original', 'UGF': N_df.UGF.values[0], 'impNDCG': round(abs((_NDCG_N - _NDCG_N) / _NDCG_N) * 100, 2), 'impNov': round(abs((_Nov_N - _Nov_N) / _Nov_N) * 100, 2), 'Cov': N_df.Cov_ALL.values[0], 'DeltaGAP': round(N_df.Active_GAP.values[0] - N_df.Inactive_Gap.values[0], 4), 'avgDeltaGap': _DeltaGAP_N, 'impDeltaGap':round((_DeltaGAP_N - _DeltaGAP_N) / _DeltaGAP_N, 5), 'impUGF': round(abs((_UGF_N - _UGF_N) / _UGF_N) * 100, 2), 'cntLongItems': round(N_df.Long_Items.values[0], 4)}, ignore_index=True)\n",
    "    boxplot_df = boxplot_df.append({'Dataset': model_df.Dataset.values[0], 'Model': model_df.Model.values[0], 'Type': 'Fair', 'UGF': C_df.UGF.values[0], 'impNDCG': round(abs((_NDCG_C - _NDCG_N) / _NDCG_N) * 100, 2), 'impNov': round(abs((_Nov_C - _Nov_N) / _Nov_N) * 100, 2), 'Cov': C_df.Cov_ALL.values[0], 'DeltaGAP': round(C_df.Active_GAP.values[0] - C_df.Inactive_Gap.values[0], 4), 'avgDeltaGap': _DeltaGAP_C, 'impDeltaGap': round((_DeltaGAP_C - _DeltaGAP_N) / _DeltaGAP_N, 5), 'impUGF': round(abs((_UGF_C - _UGF_N) / _UGF_N) * 100, 2), 'cntLongItems': round(C_df.Long_Items.values[0], 4)}, ignore_index=True)\n",
    "\n",
    "    boxplot_UGF_df = boxplot_UGF_df.append({'Dataset': model_df.Dataset.values[0], 'Model': model_df.Model.values[0], 'UGF-Org': N_df.UGF.values[0], 'UGF-Fair': round(abs((_UGF_C - _UGF_N)), 2)}, ignore_index=True)"
   ]
  },
  {
   "cell_type": "code",
   "execution_count": null,
   "metadata": {},
   "outputs": [],
   "source": [
    "heatmap_df = pd.DataFrame(columns=['Dataset', 'Group', 'Model', 'UGF', ])\n",
    "boxplot_df = pd.DataFrame(columns=['Dataset', 'Model','Type', 'UGF', 'impNDCG', 'impNov', 'Cov', 'DeltaGAP', 'avgDeltaGap','impDeltaGap', 'impUGF', 'cntLongItems'])\n",
    "boxplot_UGF_df = pd.DataFrame(columns=['Dataset', 'Model', 'UGF-Org', 'UGF-Fair'])\n",
    "\n",
    "Models = ['MostPop', 'BPR', 'PF', 'WMF', 'NeuMF', 'VAECF']\n",
    "for dataset in datasets:\n",
    "    result_table = open(f\"tabels/{user_groups}/result_table_{dataset}.csv\", 'w')\n",
    "    result_table.write(\"Model,Type,All,Act,Inact,UGF,Improv,Nov,Cov,Short,Long,GAPAct,GAPInact \\n\")\n",
    "    print(f\"> Dataset: {dataset}\")\n",
    "    for model in Models:\n",
    "        main_results_extraction(dataset=dataset, model=model)\n",
    "    result_table.close()"
   ]
  },
  {
   "cell_type": "code",
   "execution_count": null,
   "metadata": {},
   "outputs": [],
   "source": [
    "boxplot_df[(boxplot_df.Type == 'Original') & (boxplot_df.Model == 'MostPop')]"
   ]
  },
  {
   "cell_type": "code",
   "execution_count": null,
   "metadata": {},
   "outputs": [],
   "source": [
    "for model in Models:\n",
    "    # print(model)\n",
    "    longitems_df = boxplot_df[(boxplot_df.Type == 'Original') & (boxplot_df.Model == model)]['cntLongItems']\n",
    "    # print(longitems_df)\n",
    "    print(f\"{model}: {np.mean(longitems_df)}\")"
   ]
  },
  {
   "cell_type": "code",
   "execution_count": null,
   "metadata": {},
   "outputs": [],
   "source": [
    "impUGF_fair_df = boxplot_df[boxplot_df.Type == 'Fair']['impUGF']\n",
    "UGF_org_df = boxplot_df[boxplot_df.Type == 'Original']['UGF']"
   ]
  },
  {
   "cell_type": "code",
   "execution_count": null,
   "metadata": {},
   "outputs": [],
   "source": [
    "# impUGF_fair_df.merge(UGF_org_df)\n",
    "sns.regplot(x=impUGF_fair_df, y=UGF_org_df)\n",
    "\n",
    "v, p = sp.stats.pearsonr(impUGF_fair_df, UGF_org_df)\n",
    "print(round(v, 5) , round(p, 7))"
   ]
  },
  {
   "cell_type": "code",
   "execution_count": null,
   "metadata": {},
   "outputs": [],
   "source": [
    "avg_df = boxplot_df[boxplot_df.Type == 'Fair']"
   ]
  },
  {
   "cell_type": "code",
   "execution_count": null,
   "metadata": {},
   "outputs": [],
   "source": [
    "np.mean(avg_df.impNDCG), np.mean(avg_df.impNov), np.mean(avg_df.impUGF), np.mean(avg_df.impDeltaGap), np.mean(avg_df.avgDeltaGap)"
   ]
  },
  {
   "cell_type": "code",
   "execution_count": null,
   "metadata": {},
   "outputs": [],
   "source": [
    "# %improvmenet for each mode on original and fair type\n",
    "\n",
    "def get_model_average_UGF(type='Original'):\n",
    "    boxplot_type_df = boxplot_df[boxplot_df.Type == type].groupby('Model')\n",
    "    print(f\"The average of UGF on each model for the {type} version ...\")\n",
    "    Models = ['MostPop', 'BPR', 'PF', 'WMF', 'NeuMF', 'VAECF']\n",
    "    for eachmodel in Models:\n",
    "        print(f\"{eachmodel}: {round(np.mean(boxplot_type_df.get_group(eachmodel)['impUGF']), 4)}\")\n",
    "\n",
    "for type in ['Original', 'Fair']:\n",
    "    get_model_average_UGF(type=type)"
   ]
  },
  {
   "cell_type": "code",
   "execution_count": null,
   "metadata": {},
   "outputs": [],
   "source": [
    "sns.regplot(x=\"UGF-Org\", y='UGF-Fair', data=boxplot_UGF_df[boxplot_UGF_df.Dataset == 'LastFM'])"
   ]
  },
  {
   "cell_type": "code",
   "execution_count": null,
   "metadata": {},
   "outputs": [],
   "source": [
    "# sort results dataframe\n",
    "heatmap_df = heatmap_df.sort_values([\"Dataset\", \"Model\", 'Group'], ascending = (False, True, True))\n",
    "group_heatmap_df = heatmap_df.groupby('Model')"
   ]
  },
  {
   "cell_type": "code",
   "execution_count": null,
   "metadata": {},
   "outputs": [],
   "source": [
    "df_Pop = group_heatmap_df.get_group('MostPop').pivot(\"Dataset\", \"Group\", \"UGF\")\n",
    "df_BPR = group_heatmap_df.get_group('BPR').pivot(\"Dataset\", \"Group\", \"UGF\")\n",
    "df_PF = group_heatmap_df.get_group('PF').pivot(\"Dataset\", \"Group\", \"UGF\")\n",
    "df_WMF = group_heatmap_df.get_group('WMF').pivot(\"Dataset\", \"Group\", \"UGF\")\n",
    "df_NeuMF = group_heatmap_df.get_group('NeuMF').pivot(\"Dataset\", \"Group\", \"UGF\")\n",
    "df_VAECF = group_heatmap_df.get_group('VAECF').pivot(\"Dataset\", \"Group\", \"UGF\")\n",
    "\n",
    "f,(ax0,ax1,ax2,ax3,ax4,ax5,axcb) = plt.subplots(1,7, gridspec_kw={'width_ratios':[1,1,1,1,1,1,0.06]}, figsize=(10, 5))\n",
    "\n",
    "g0 = sns.heatmap(data=df_Pop.reindex(['Org.', 'Fair'], axis=1), annot=True, cmap=\"YlGnBu\", cbar=False, ax=ax0)\n",
    "g0.set_ylabel('')\n",
    "g0.set_xlabel('MostPop', fontsize=14)\n",
    "\n",
    "g1 = sns.heatmap(data=df_BPR.reindex(['Org.', 'Fair'], axis=1),annot=True, cmap=\"YlGnBu\",cbar=False,ax=ax1)\n",
    "g1.set_ylabel('')\n",
    "g1.set_xlabel('BPR', fontsize=14)\n",
    "g1.set_yticks([])\n",
    "\n",
    "g2 = sns.heatmap(data=df_PF.reindex(['Org.', 'Fair'], axis=1),annot=True, cmap=\"YlGnBu\",cbar=False,ax=ax2)\n",
    "g2.set_ylabel('')\n",
    "g2.set_xlabel('PF', fontsize=14)\n",
    "g2.set_yticks([])\n",
    "\n",
    "g3 = sns.heatmap(data=df_WMF.reindex(['Org.', 'Fair'], axis=1),annot=True, cmap=\"YlGnBu\",cbar=False,ax=ax3)\n",
    "g3.set_ylabel('')\n",
    "g3.set_xlabel('WMF', fontsize=14)\n",
    "g3.set_yticks([])\n",
    "\n",
    "g4 = sns.heatmap(data=df_NeuMF.reindex(['Org.', 'Fair'], axis=1),annot=True, cmap=\"YlGnBu\",cbar=False,ax=ax4)\n",
    "g4.set_ylabel('')\n",
    "g4.set_xlabel('NeuMF', fontsize=14)\n",
    "g4.set_yticks([])\n",
    "\n",
    "g5 = sns.heatmap(data=df_VAECF.reindex(['Org.', 'Fair'], axis=1),annot=True, cmap=\"YlGnBu\",ax=ax5, cbar_ax=axcb)\n",
    "g5.set_ylabel('')\n",
    "g5.set_xlabel('VAECF', fontsize=14)\n",
    "g5.set_yticks([])\n",
    "\n",
    "# may be needed to rotate the ticklabels correctly:\n",
    "for ax in [g0,g1,g2,g3,g4,g5]:\n",
    "    tl = ax.get_xticklabels()\n",
    "    ax.set_xticklabels(tl, rotation=40)\n",
    "    tly = ax.get_yticklabels()\n",
    "    ax.set_yticklabels(tly, rotation=0)\n",
    "\n",
    "\n",
    "plt.savefig(f'plots/{user_groups}/heatmap_{user_groups}.pdf', bbox_inches='tight')"
   ]
  },
  {
   "cell_type": "code",
   "execution_count": null,
   "metadata": {},
   "outputs": [],
   "source": [
    "group_boxplot_df = boxplot_df.groupby('Dataset')"
   ]
  },
  {
   "cell_type": "code",
   "execution_count": null,
   "metadata": {},
   "outputs": [],
   "source": [
    "# for dataset in datasets:\n",
    "#     print(f\"Dataset: {dataset}\")\n",
    "#     box_plt = sns.boxplot(x=\"Type\", y=\"UGF\", data=group_boxplot_df.get_group(dataset))\n",
    "#     plt.show()"
   ]
  },
  {
   "cell_type": "code",
   "execution_count": null,
   "metadata": {},
   "outputs": [],
   "source": [
    "import seaborn  as sns\n",
    "import matplotlib.pyplot as plt\n",
    "\n",
    "# plt.xticks(fontsize=14, rotation=90)\n",
    "\n",
    "f,(ax1,ax2,ax3,ax4,ax5,ax6,ax7,ax8) = plt.subplots(1,8, gridspec_kw={'width_ratios':[1,1,1,1,1,1,1,1]}, figsize=(35, 6))\n",
    "# ax1.get_shared_y_axes().join(ax2,ax3)\n",
    "\n",
    "g1 = sns.boxplot(x=\"Type\", y=\"UGF\", data=group_boxplot_df.get_group('MovieLens'), ax=ax1)\n",
    "g1.set_ylabel('UGF', fontsize=16)\n",
    "g1.set_xlabel('MovieLens100K', fontsize=16)\n",
    "g1.set_xticklabels(g1.get_xticklabels(), fontsize=14)\n",
    "g1.set_ylim(min(boxplot_df.UGF), round(max(boxplot_df.UGF), 2))\n",
    "g1.set_yticklabels(np.round(g1.get_yticks(), 2), fontsize=16)\n",
    "\n",
    "g2 = sns.boxplot(x=\"Type\", y=\"UGF\", data=group_boxplot_df.get_group('Epinion'), ax=ax2)\n",
    "g2.set_ylabel('')\n",
    "g2.set_xlabel('Epinion', fontsize=16)\n",
    "g2.set_xticklabels(g2.get_xticklabels(), fontsize=14)\n",
    "g2.set_ylim(min(boxplot_df.UGF), round(max(boxplot_df.UGF), 2))\n",
    "g2.set_yticklabels(np.round(g2.get_yticks(), 2), fontsize=2, color='w')\n",
    "# g2.set_yticks([])\n",
    "\n",
    "g3 = sns.boxplot(x=\"Type\", y=\"UGF\", data=group_boxplot_df.get_group('BookCrossing'), ax=ax3)\n",
    "g3.set_ylabel('')\n",
    "g3.set_xlabel('BookCrossing', fontsize=16)\n",
    "g3.set_xticklabels(g3.get_xticklabels(), fontsize=14)\n",
    "g3.set_ylim(min(boxplot_df.UGF), round(max(boxplot_df.UGF), 2))\n",
    "# g3.set_yticks([])\n",
    "g3.set_yticklabels(np.round(g3.get_yticks(), 2), fontsize=2, color='w')\n",
    "\n",
    "g4 = sns.boxplot(x=\"Type\", y=\"UGF\", data=group_boxplot_df.get_group('AmazonOffice'), ax=ax4)\n",
    "g4.set_ylabel('')\n",
    "g4.set_xlabel('AmazonOffice', fontsize=16)\n",
    "g4.set_xticklabels(g4.get_xticklabels(), fontsize=14)\n",
    "g4.set_ylim(min(boxplot_df.UGF), round(max(boxplot_df.UGF), 2))\n",
    "# g4.set_yticks([])\n",
    "g4.set_yticklabels(np.round(g4.get_yticks(), 2), fontsize=2, color='w')\n",
    "\n",
    "g5 = sns.boxplot(x=\"Type\", y=\"UGF\", data=group_boxplot_df.get_group('AmazonToy'), ax=ax5)\n",
    "g5.set_ylabel('')\n",
    "g5.set_xlabel('AmazonToy', fontsize=16)\n",
    "g5.set_xticklabels(g5.get_xticklabels(), fontsize=14)\n",
    "g5.set_ylim(min(boxplot_df.UGF), round(max(boxplot_df.UGF), 2))\n",
    "# g5.set_yticks([])\n",
    "g5.set_yticklabels(np.round(g5.get_yticks(), 2), fontsize=2, color='w')\n",
    "\n",
    "g6 = sns.boxplot(x=\"Type\", y=\"UGF\", data=group_boxplot_df.get_group('LastFM'), ax=ax6)\n",
    "g6.set_ylabel('')\n",
    "g6.set_xlabel('LastFM', fontsize=16)\n",
    "g6.set_xticklabels(g6.get_xticklabels(), fontsize=14)\n",
    "g6.set_ylim(min(boxplot_df.UGF), round(max(boxplot_df.UGF), 2))\n",
    "# g6.set_yticks([])\n",
    "g6.set_yticklabels(np.round(g6.get_yticks(), 2), fontsize=2, color='w')\n",
    "\n",
    "g7 = sns.boxplot(x=\"Type\", y=\"UGF\", data=group_boxplot_df.get_group('Gowalla'), ax=ax7)\n",
    "g7.set_ylabel('')\n",
    "g7.set_xlabel('Gowalla', fontsize=16)\n",
    "g7.set_xticklabels(g7.get_xticklabels(), fontsize=14)\n",
    "g7.set_ylim(min(boxplot_df.UGF), round(max(boxplot_df.UGF), 2))\n",
    "# g7.set_yticks([])\n",
    "g7.set_yticklabels(np.round(g7.get_yticks(), 2), fontsize=2, color='w')\n",
    "\n",
    "g8 = sns.boxplot(x=\"Type\", y=\"UGF\", data=group_boxplot_df.get_group('Foursquare'), ax=ax8)\n",
    "g8.set_ylabel('')\n",
    "g8.set_xlabel('Foursquare', fontsize=16)\n",
    "g8.set_xticklabels(g8.get_xticklabels(), fontsize=14)\n",
    "g8.set_ylim(min(boxplot_df.UGF), round(max(boxplot_df.UGF), 2))\n",
    "# g8.set_yticks([])\n",
    "g8.set_yticklabels(np.round(g8.get_yticks(), 2), fontsize=2, color='w')\n",
    "\n",
    "plt.savefig(f'plots/{user_groups}/boxplot_{user_groups}.pdf', bbox_inches='tight')"
   ]
  },
  {
   "cell_type": "code",
   "execution_count": null,
   "metadata": {},
   "outputs": [],
   "source": [
    "ax, fig = plt.subplots(figsize=[9,4])\n",
    "p = sns.boxplot(x=\"Model\", y=\"ImpPrecent\", data=boxplot_df[boxplot_df.Type == 'Fair'])\n",
    "p.set_yticklabels(np.round(p.get_yticks(), 4), fontsize=14)\n",
    "p.set_xticklabels(p.get_xticklabels(), fontsize=14)\n",
    "p.set_ylabel(r'Δ% (UGF)', fontsize=16)\n",
    "p.set_xlabel('Dataset', fontsize=16)\n",
    "p.set_xticklabels(p.get_xticklabels(), rotation=30)\n",
    "\n",
    "plt.savefig(f'plots/{user_groups}/boxplot_ds_{user_groups}.pdf', bbox_inches='tight')"
   ]
  },
  {
   "cell_type": "code",
   "execution_count": null,
   "metadata": {},
   "outputs": [],
   "source": [
    "ax, fig = plt.subplots(figsize=[9,4])\n",
    "p = sns.boxplot(x=\"Model\", y=\"ImpPrecent\", data=boxplot_df[boxplot_df.Type == 'Fair'])\n",
    "p.set_yticklabels(np.round(p.get_yticks(), 4), fontsize=14)\n",
    "p.set_xticklabels(p.get_xticklabels(), fontsize=14)\n",
    "p.set_ylabel(r'Δ% (UGF)', fontsize=16)\n",
    "p.set_xlabel('Models', fontsize=16)\n",
    "p.set_xticklabels(p.get_xticklabels(), rotation=30)\n",
    "\n",
    "plt.savefig(f'plots/{user_groups}/boxplot_ml_{user_groups}.pdf', bbox_inches='tight')"
   ]
  },
  {
   "cell_type": "code",
   "execution_count": null,
   "metadata": {},
   "outputs": [],
   "source": [
    "# plots to show the correlation between the improvement of UGF and the other metrics\n",
    "# ΔGAP (Act. - Inact.)\n",
    "\n",
    "labels = {'impNDCG': r'Δ% (NDCG)', 'impNov': r'Δ% (Nov)', 'impDeltaGap': r'Δ% (ΔGAP)'}\n",
    "for metric in ['impNDCG', 'impNov', 'impDeltaGap']:\n",
    "    fig, ax = plt.subplots()\n",
    "    fig.set_size_inches(3, 2)\n",
    "    r = sns.regplot(x=\"impUGF\", y=metric, data=boxplot_df[(boxplot_df.Type == 'Fair')], ax=ax)\n",
    "    x = boxplot_df[(boxplot_df.Type == 'Fair')]\n",
    "    v, p = sp.stats.pearsonr(x['impUGF'], x[metric])\n",
    "    print(round(v, 5) , round(p, 7))\n",
    "    r.set_yticklabels(np.round(r.get_yticks(), 4), fontsize=10)\n",
    "    r.set_xticklabels(np.round(r.get_xticks(), 4), fontsize=10)\n",
    "    \n",
    "    r.set_ylabel(f\"{labels[metric]}\", fontsize=10)\n",
    "    r.set_xlabel(r'Δ% (UGF)', fontsize=10)\n",
    "\n",
    "    fig.savefig(f'plots/{user_groups}/boxplot_corr_{metric}_{user_groups}.pdf', bbox_inches='tight')"
   ]
  },
  {
   "cell_type": "code",
   "execution_count": null,
   "metadata": {},
   "outputs": [],
   "source": [
    "boxplot_df[(boxplot_df.Type == 'Fair')]['impDeltaGap']"
   ]
  },
  {
   "cell_type": "code",
   "execution_count": null,
   "metadata": {},
   "outputs": [],
   "source": [
    "a = sns.regplot(x=\"UGF\", y=metric, data=boxplot_df[boxplot_df.Type == 'Fair'])"
   ]
  },
  {
   "cell_type": "code",
   "execution_count": null,
   "metadata": {},
   "outputs": [],
   "source": [
    "# user profile dict -> uid: profile size\n",
    "# active users list\n",
    "# inactive users list\n",
    "\n",
    "from collections import defaultdict\n",
    "from tqdm import tqdm\n",
    "import numpy as np\n",
    "\n",
    "def user_interactions(dataset='LastFM', is_implicit=True):\n",
    "    # loading the Book-Crossing dataset\n",
    "    train_data = pd.read_csv(f\"datasets/{dataset}/{dataset}_train.txt\", sep=\"\\t\", names=['uid', 'iid', 'count'])\n",
    "    user_profiles = defaultdict(list)\n",
    "    for eachline in tqdm(train_data.itertuples(index=True)):\n",
    "        uid, iid, count = int(eachline.uid), int(eachline.iid), int(eachline.count)\n",
    "        uid, iid, count = int(uid), int(iid), int(count)\n",
    "        if is_implicit:\n",
    "            for i in range(count):\n",
    "                if uid in user_profiles.keys():\n",
    "                    user_profiles[uid].append(iid)\n",
    "                else:\n",
    "                    user_profiles[uid] = [iid]\n",
    "        else:\n",
    "            if uid in user_profiles.keys():\n",
    "                user_profiles[uid].append(iid)\n",
    "            else:\n",
    "                user_profiles[uid] = [iid]\n",
    "    return user_profiles\n",
    "\n",
    "def avg_profile_group(dataset='LastFM', is_implicit=True):\n",
    "    global user_profile_df\n",
    "    global user_size_df\n",
    "    users_profile = user_interactions(dataset=dataset, is_implicit=is_implicit)\n",
    "    active_users = open(f\"datasets/{dataset}/groups/users/{user_groups}/active_ids.txt\").readlines()\n",
    "    active_users = [int(uid.strip()) for uid in active_users]\n",
    "    inactive_users = open(f\"datasets/{dataset}/groups/users/{user_groups}/inactive_ids.txt\").readlines()\n",
    "    inactive_users = [int(uid.strip()) for uid in inactive_users]\n",
    "    active_user_profile_size = [len(users_profile[uid]) for uid in active_users if uid in users_profile]\n",
    "    for active_user_size in active_user_profile_size:\n",
    "        user_size_df = user_size_df.append({'Dataset': dataset, 'group': 'advantaged', 'size': active_user_size}, ignore_index=True)\n",
    "    inactive_user_profile_size = [len(users_profile[uid]) for uid in inactive_users if uid in users_profile]\n",
    "    for inactive_user_size in inactive_user_profile_size:\n",
    "        user_size_df = user_size_df.append({'Dataset': dataset, 'group': 'disadvantaged', 'size': inactive_user_size}, ignore_index=True)\n",
    "    user_profile_df = user_profile_df.append({'Dataset': dataset, 'group': 'advantaged', 'avg': np.mean(active_user_profile_size)}, ignore_index=True)\n",
    "    user_profile_df = user_profile_df.append({'Dataset': dataset, 'group': 'disadvantaged', 'avg': np.mean(inactive_user_profile_size)}, ignore_index=True)"
   ]
  },
  {
   "cell_type": "code",
   "execution_count": null,
   "metadata": {},
   "outputs": [],
   "source": [
    "user_profile_df = pd.DataFrame(columns=['Dataset', 'group', 'avg'])\n",
    "user_size_df = pd.DataFrame(columns=['Dataset', 'group', 'size'])\n",
    "# datasets = ['Epinion-Flase', 'MovieLens-False', 'BookCrossing-False', 'AmazonOffice-False', 'AmazonToy-False', 'Gowalla-Ture', 'LastFM-', 'Foursquare-True']\n",
    "datasets = ['Epinion-Flase']\n",
    "for datasetIsimplicit in datasets:\n",
    "    dataset, Isimplicit = datasetIsimplicit.split('-')\n",
    "    if Isimplicit == 'True':\n",
    "        avg_profile_group(dataset=dataset, is_implicit=True)\n",
    "    else:\n",
    "        avg_profile_group(dataset=dataset, is_implicit=False)"
   ]
  },
  {
   "cell_type": "code",
   "execution_count": null,
   "metadata": {},
   "outputs": [],
   "source": [
    "user_profile_df"
   ]
  },
  {
   "cell_type": "code",
   "execution_count": null,
   "metadata": {},
   "outputs": [],
   "source": [
    "ax = sns.barplot(x=\"Dataset\", y=\"avg\", hue=\"group\", data=user_profile_df)"
   ]
  },
  {
   "cell_type": "code",
   "execution_count": null,
   "metadata": {},
   "outputs": [],
   "source": [
    "sns.boxplot(x=\"Dataset\", y=\"size\",\n",
    "            hue=\"group\", data=user_size_df)"
   ]
  },
  {
   "cell_type": "code",
   "execution_count": null,
   "metadata": {},
   "outputs": [],
   "source": [
    "import scipy as sp"
   ]
  },
  {
   "cell_type": "code",
   "execution_count": null,
   "metadata": {},
   "outputs": [],
   "source": [
    "for dataset in datasets:\n",
    "    fig = plt.figure()\n",
    "    sns.regplot(x=\"ImpPrecent\", y='NDCG', data=boxplot_df[(boxplot_df.Type == 'Fair') & (boxplot_df.Dataset == dataset)])\n",
    "    x = boxplot_df[(boxplot_df.Type == 'Fair') & (boxplot_df.Dataset == dataset)]\n",
    "    r, p = sp.stats.pearsonr(x['ImpPrecent'], x['NDCG'])\n",
    "    print(r , p)"
   ]
  },
  {
   "cell_type": "code",
   "execution_count": null,
   "metadata": {},
   "outputs": [],
   "source": []
  }
 ],
 "metadata": {
  "interpreter": {
   "hash": "0adcc2737ebf6a4a119f135174df96668767fca1ef1112612db5ecadf2b6d608"
  },
  "kernelspec": {
   "display_name": "Python 3.8.0 64-bit",
   "language": "python",
   "name": "python3"
  },
  "language_info": {
   "codemirror_mode": {
    "name": "ipython",
    "version": 3
   },
   "file_extension": ".py",
   "mimetype": "text/x-python",
   "name": "python",
   "nbconvert_exporter": "python",
   "pygments_lexer": "ipython3",
   "version": "3.8.0"
  },
  "orig_nbformat": 4
 },
 "nbformat": 4,
 "nbformat_minor": 2
}
